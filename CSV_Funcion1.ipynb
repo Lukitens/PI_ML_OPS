{
 "cells": [
  {
   "cell_type": "code",
   "execution_count": 1,
   "metadata": {},
   "outputs": [],
   "source": [
    "#Importamos las librerias\n",
    "import pandas as pd\n",
    "import numpy as np"
   ]
  },
  {
   "cell_type": "code",
   "execution_count": 2,
   "metadata": {},
   "outputs": [],
   "source": [
    "#Cargamos los archivos que tenemos que usar\n",
    "games = pd.read_csv(\"Csv_limpios/steam_games_limpio.csv\")\n",
    "items = pd.read_csv(\"Csv_limpios/steam_items_limpio.csv\")"
   ]
  },
  {
   "cell_type": "code",
   "execution_count": 3,
   "metadata": {},
   "outputs": [],
   "source": [
    "#Renombramos la columna id por item_id para poder usar el merge\n",
    "games.rename(columns={\"id\" : \"item_id\"}, inplace=True)"
   ]
  },
  {
   "cell_type": "code",
   "execution_count": 4,
   "metadata": {},
   "outputs": [],
   "source": [
    "#Agrupamos por el item_id y sumamos las horas totales\n",
    "items_group = items.groupby('item_id')['playtime_forever'].sum().reset_index()\n",
    "# Hacer el merge de las tablas\n",
    "items_games = pd.merge(items_group, games, on='item_id', how='inner')\n",
    "# agrupamos por año y genero y sumamos la columna de playtimeForever\n",
    "items_games_final = items_games.groupby(['año', 'genres'])['playtime_forever'].sum().reset_index()"
   ]
  },
  {
   "cell_type": "code",
   "execution_count": 5,
   "metadata": {},
   "outputs": [
    {
     "data": {
      "text/html": [
       "<div>\n",
       "<style scoped>\n",
       "    .dataframe tbody tr th:only-of-type {\n",
       "        vertical-align: middle;\n",
       "    }\n",
       "\n",
       "    .dataframe tbody tr th {\n",
       "        vertical-align: top;\n",
       "    }\n",
       "\n",
       "    .dataframe thead th {\n",
       "        text-align: right;\n",
       "    }\n",
       "</style>\n",
       "<table border=\"1\" class=\"dataframe\">\n",
       "  <thead>\n",
       "    <tr style=\"text-align: right;\">\n",
       "      <th></th>\n",
       "      <th>año</th>\n",
       "      <th>genres</th>\n",
       "      <th>playtime_forever</th>\n",
       "    </tr>\n",
       "  </thead>\n",
       "  <tbody>\n",
       "    <tr>\n",
       "      <th>0</th>\n",
       "      <td>1983</td>\n",
       "      <td>Action</td>\n",
       "      <td>3582.0</td>\n",
       "    </tr>\n",
       "    <tr>\n",
       "      <th>1</th>\n",
       "      <td>1983</td>\n",
       "      <td>Adventure</td>\n",
       "      <td>3582.0</td>\n",
       "    </tr>\n",
       "    <tr>\n",
       "      <th>2</th>\n",
       "      <td>1983</td>\n",
       "      <td>Casual</td>\n",
       "      <td>3582.0</td>\n",
       "    </tr>\n",
       "    <tr>\n",
       "      <th>3</th>\n",
       "      <td>1984</td>\n",
       "      <td>Action</td>\n",
       "      <td>384.0</td>\n",
       "    </tr>\n",
       "    <tr>\n",
       "      <th>4</th>\n",
       "      <td>1984</td>\n",
       "      <td>Adventure</td>\n",
       "      <td>384.0</td>\n",
       "    </tr>\n",
       "    <tr>\n",
       "      <th>...</th>\n",
       "      <td>...</td>\n",
       "      <td>...</td>\n",
       "      <td>...</td>\n",
       "    </tr>\n",
       "    <tr>\n",
       "      <th>338</th>\n",
       "      <td>2018</td>\n",
       "      <td>Adventure</td>\n",
       "      <td>21.0</td>\n",
       "    </tr>\n",
       "    <tr>\n",
       "      <th>339</th>\n",
       "      <td>2018</td>\n",
       "      <td>Early Access</td>\n",
       "      <td>6128.0</td>\n",
       "    </tr>\n",
       "    <tr>\n",
       "      <th>340</th>\n",
       "      <td>2018</td>\n",
       "      <td>Indie</td>\n",
       "      <td>2327.0</td>\n",
       "    </tr>\n",
       "    <tr>\n",
       "      <th>341</th>\n",
       "      <td>2018</td>\n",
       "      <td>RPG</td>\n",
       "      <td>3822.0</td>\n",
       "    </tr>\n",
       "    <tr>\n",
       "      <th>342</th>\n",
       "      <td>2018</td>\n",
       "      <td>Simulation</td>\n",
       "      <td>2203.0</td>\n",
       "    </tr>\n",
       "  </tbody>\n",
       "</table>\n",
       "<p>343 rows × 3 columns</p>\n",
       "</div>"
      ],
      "text/plain": [
       "      año        genres  playtime_forever\n",
       "0    1983        Action            3582.0\n",
       "1    1983     Adventure            3582.0\n",
       "2    1983        Casual            3582.0\n",
       "3    1984        Action             384.0\n",
       "4    1984     Adventure             384.0\n",
       "..    ...           ...               ...\n",
       "338  2018     Adventure              21.0\n",
       "339  2018  Early Access            6128.0\n",
       "340  2018         Indie            2327.0\n",
       "341  2018           RPG            3822.0\n",
       "342  2018    Simulation            2203.0\n",
       "\n",
       "[343 rows x 3 columns]"
      ]
     },
     "execution_count": 5,
     "metadata": {},
     "output_type": "execute_result"
    }
   ],
   "source": [
    "items_games_final"
   ]
  },
  {
   "cell_type": "code",
   "execution_count": 6,
   "metadata": {},
   "outputs": [],
   "source": [
    "#Pasamos a csv el archivo\n",
    "items_games_final.to_csv(\"Csv_api/funcion1.csv\", index=False)"
   ]
  },
  {
   "cell_type": "markdown",
   "metadata": {},
   "source": [
    "Esta funcion la hice de prueba para despues adaptarla a la api"
   ]
  },
  {
   "cell_type": "code",
   "execution_count": 7,
   "metadata": {},
   "outputs": [],
   "source": [
    "# def PlayTimeGenre( genero : str ): Debe devolver año con mas horas jugadas para dicho género.\n",
    "# Ejemplo de retorno: {\"Año de lanzamiento con más horas jugadas para Género X\" : 2013}\n",
    "#Creamos la funcion que tome como argumento el genero, que sea un string\n",
    "def PlayTimeGenre( genero : str ):\n",
    "\n",
    "    if genero in items_games_final[\"genres\"].values: #Si el genero ingresado esta en la columna genres, sigue con la funcion\n",
    "        filtro = items_games_final[items_games_final[\"genres\"] == genero] #Filtra por el genero seleccionado\n",
    "        valor_maximo = filtro[\"playtime_forever\"].max() #Devuelve el valor mas alto de las horas\n",
    "        filtro = filtro[filtro[\"playtime_forever\"] == valor_maximo] #Dejamos solo el valor maximo\n",
    "        return f\"Año de lanzamiento con mas horas jugadas para el genero {genero} : {filtro['año'].values[0]}\" #Devolvemos el resultado\n",
    "    else:\n",
    "        return(\"Tu genero: {} no existe\".format(genero)) #Si el genero ingresado no existe lo indica"
   ]
  },
  {
   "cell_type": "code",
   "execution_count": 8,
   "metadata": {},
   "outputs": [
    {
     "data": {
      "text/plain": [
       "'Año de lanzamiento con mas horas jugadas para el genero Action : 2012'"
      ]
     },
     "execution_count": 8,
     "metadata": {},
     "output_type": "execute_result"
    }
   ],
   "source": [
    "PlayTimeGenre(\"Action\")"
   ]
  }
 ],
 "metadata": {
  "kernelspec": {
   "display_name": "Python 3",
   "language": "python",
   "name": "python3"
  },
  "language_info": {
   "codemirror_mode": {
    "name": "ipython",
    "version": 3
   },
   "file_extension": ".py",
   "mimetype": "text/x-python",
   "name": "python",
   "nbconvert_exporter": "python",
   "pygments_lexer": "ipython3",
   "version": "3.11.4"
  }
 },
 "nbformat": 4,
 "nbformat_minor": 2
}
