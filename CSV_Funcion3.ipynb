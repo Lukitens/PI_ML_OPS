{
 "cells": [
  {
   "cell_type": "code",
   "execution_count": 3,
   "metadata": {},
   "outputs": [],
   "source": [
    "#Importamos las librerias\n",
    "import pandas as pd\n",
    "import numpy as np"
   ]
  },
  {
   "cell_type": "code",
   "execution_count": 4,
   "metadata": {},
   "outputs": [],
   "source": [
    "#Cargamos los archivos que tenemos que usar\n",
    "games = pd.read_csv(\"Csv_limpios/steam_games_limpio.csv\")\n",
    "items = pd.read_csv(\"Csv_limpios/steam_items_limpio.csv\")\n",
    "reviews = pd.read_csv(\"Csv_limpios/steam_reviews_limpio.csv\")"
   ]
  },
  {
   "cell_type": "code",
   "execution_count": 5,
   "metadata": {},
   "outputs": [],
   "source": [
    "#Renombramos la columna id por item_id para poder usar el merge\n",
    "games.rename(columns={\"id\" : \"item_id\"}, inplace=True)"
   ]
  },
  {
   "cell_type": "code",
   "execution_count": 6,
   "metadata": {},
   "outputs": [
    {
     "data": {
      "text/html": [
       "<div>\n",
       "<style scoped>\n",
       "    .dataframe tbody tr th:only-of-type {\n",
       "        vertical-align: middle;\n",
       "    }\n",
       "\n",
       "    .dataframe tbody tr th {\n",
       "        vertical-align: top;\n",
       "    }\n",
       "\n",
       "    .dataframe thead th {\n",
       "        text-align: right;\n",
       "    }\n",
       "</style>\n",
       "<table border=\"1\" class=\"dataframe\">\n",
       "  <thead>\n",
       "    <tr style=\"text-align: right;\">\n",
       "      <th></th>\n",
       "      <th>user_id</th>\n",
       "      <th>item_id</th>\n",
       "      <th>recommend</th>\n",
       "      <th>year</th>\n",
       "      <th>sentiment_analysis</th>\n",
       "    </tr>\n",
       "  </thead>\n",
       "  <tbody>\n",
       "    <tr>\n",
       "      <th>0</th>\n",
       "      <td>76561197970982479</td>\n",
       "      <td>1250</td>\n",
       "      <td>1</td>\n",
       "      <td>2011.0</td>\n",
       "      <td>2</td>\n",
       "    </tr>\n",
       "    <tr>\n",
       "      <th>1</th>\n",
       "      <td>76561197970982479</td>\n",
       "      <td>22200</td>\n",
       "      <td>1</td>\n",
       "      <td>2011.0</td>\n",
       "      <td>2</td>\n",
       "    </tr>\n",
       "    <tr>\n",
       "      <th>2</th>\n",
       "      <td>76561197970982479</td>\n",
       "      <td>43110</td>\n",
       "      <td>1</td>\n",
       "      <td>2011.0</td>\n",
       "      <td>2</td>\n",
       "    </tr>\n",
       "    <tr>\n",
       "      <th>3</th>\n",
       "      <td>js41637</td>\n",
       "      <td>251610</td>\n",
       "      <td>1</td>\n",
       "      <td>2014.0</td>\n",
       "      <td>2</td>\n",
       "    </tr>\n",
       "    <tr>\n",
       "      <th>4</th>\n",
       "      <td>js41637</td>\n",
       "      <td>227300</td>\n",
       "      <td>1</td>\n",
       "      <td>2013.0</td>\n",
       "      <td>2</td>\n",
       "    </tr>\n",
       "    <tr>\n",
       "      <th>...</th>\n",
       "      <td>...</td>\n",
       "      <td>...</td>\n",
       "      <td>...</td>\n",
       "      <td>...</td>\n",
       "      <td>...</td>\n",
       "    </tr>\n",
       "    <tr>\n",
       "      <th>58426</th>\n",
       "      <td>Fuckfhaisjnsnsjakaka</td>\n",
       "      <td>70</td>\n",
       "      <td>1</td>\n",
       "      <td>2015.0</td>\n",
       "      <td>2</td>\n",
       "    </tr>\n",
       "    <tr>\n",
       "      <th>58427</th>\n",
       "      <td>3214213216</td>\n",
       "      <td>362890</td>\n",
       "      <td>1</td>\n",
       "      <td>2015.0</td>\n",
       "      <td>2</td>\n",
       "    </tr>\n",
       "    <tr>\n",
       "      <th>58428</th>\n",
       "      <td>ChrisCoroner</td>\n",
       "      <td>273110</td>\n",
       "      <td>1</td>\n",
       "      <td>2015.0</td>\n",
       "      <td>2</td>\n",
       "    </tr>\n",
       "    <tr>\n",
       "      <th>58429</th>\n",
       "      <td>CaptainAmericaCw</td>\n",
       "      <td>730</td>\n",
       "      <td>1</td>\n",
       "      <td>2015.0</td>\n",
       "      <td>1</td>\n",
       "    </tr>\n",
       "    <tr>\n",
       "      <th>58430</th>\n",
       "      <td>76561198267374962</td>\n",
       "      <td>440</td>\n",
       "      <td>1</td>\n",
       "      <td>2015.0</td>\n",
       "      <td>2</td>\n",
       "    </tr>\n",
       "  </tbody>\n",
       "</table>\n",
       "<p>58431 rows × 5 columns</p>\n",
       "</div>"
      ],
      "text/plain": [
       "                    user_id  item_id  recommend    year  sentiment_analysis\n",
       "0         76561197970982479     1250          1  2011.0                   2\n",
       "1         76561197970982479    22200          1  2011.0                   2\n",
       "2         76561197970982479    43110          1  2011.0                   2\n",
       "3                   js41637   251610          1  2014.0                   2\n",
       "4                   js41637   227300          1  2013.0                   2\n",
       "...                     ...      ...        ...     ...                 ...\n",
       "58426  Fuckfhaisjnsnsjakaka       70          1  2015.0                   2\n",
       "58427            3214213216   362890          1  2015.0                   2\n",
       "58428          ChrisCoroner   273110          1  2015.0                   2\n",
       "58429      CaptainAmericaCw      730          1  2015.0                   1\n",
       "58430     76561198267374962      440          1  2015.0                   2\n",
       "\n",
       "[58431 rows x 5 columns]"
      ]
     },
     "execution_count": 6,
     "metadata": {},
     "output_type": "execute_result"
    }
   ],
   "source": [
    "reviews"
   ]
  },
  {
   "cell_type": "code",
   "execution_count": 7,
   "metadata": {},
   "outputs": [],
   "source": [
    "#Dejamos solamente las columnas que vamos a usar\n",
    "juegos = games[[\"item_id\", \"title\"]]"
   ]
  },
  {
   "cell_type": "code",
   "execution_count": 8,
   "metadata": {},
   "outputs": [],
   "source": [
    "#Eliminamos los duplicados\n",
    "juegos = juegos.drop_duplicates().reset_index(drop=True)"
   ]
  },
  {
   "cell_type": "code",
   "execution_count": 9,
   "metadata": {},
   "outputs": [],
   "source": [
    "#Unimos los dataframes por el item id\n",
    "juegos_reviews = pd.merge(reviews, juegos, how=\"inner\", on=\"item_id\")\n",
    "#Filtramos las reviews que sean positivos y neutrales(1 y 2) y tambien por las reseñas que el reccomend sea True(1)\n",
    "juegos_reviews = juegos_reviews[(juegos_reviews[\"sentiment_analysis\"].isin([1, 2])) & (juegos_reviews[\"recommend\"] == 1)].reset_index(drop=True)\n",
    "#Agrupamos por el item id, titulo y año y sumamos el sentiment analysis y el recommend\n",
    "juegos_reviews = juegos_reviews.groupby([\"item_id\", \"title\", \"year\"])[[\"sentiment_analysis\", \"recommend\"]].sum().reset_index()\n",
    "#Eliminamos el item id ya que no lo vamos a usar\n",
    "juegos_reviews.drop(columns=\"item_id\", inplace=True)"
   ]
  },
  {
   "cell_type": "code",
   "execution_count": 10,
   "metadata": {},
   "outputs": [],
   "source": [
    "#Pasamos el df a csv\n",
    "juegos_reviews.to_csv(\"Csv_api/funcion3.csv\", index=False)"
   ]
  },
  {
   "cell_type": "markdown",
   "metadata": {},
   "source": [
    "Esta funcion la hice de prueba para despues adaptarla a la api"
   ]
  },
  {
   "cell_type": "code",
   "execution_count": 13,
   "metadata": {},
   "outputs": [],
   "source": [
    "# def UsersRecommend( año : int ): Devuelve el top 3 de juegos MÁS recomendados por \n",
    "#usuarios para el año dado. (reviews.recommend = True y comentarios positivos/neutrales)\n",
    "#Ejemplo de retorno: [{\"Puesto 1\" : X}, {\"Puesto 2\" : Y},{\"Puesto 3\" : Z}]\n",
    "def UsersRecommend( año : int ): #Creamos la funcion a la que hay que ingresarle un año que sea numero entero\n",
    "\n",
    "    if año >= 2010 and año <= 2015: #Si el año ingresado esta entre 2010 y 2015 procede con la funcion\n",
    "        #Filtra por el año ingresado\n",
    "        filtro = juegos_reviews[juegos_reviews[\"year\"] == año]\n",
    "        filtro[\"valoracion\"] = (filtro[\"sentiment_analysis\"].isin([1, 2])).astype(int) + (filtro[\"recommend\"])\n",
    "        #Devuelve los 3 juegos con mejor valoracion y el indice que tienen\n",
    "        top3 = filtro[\"valoracion\"].nlargest(3).index\n",
    "        #Los indices los pasamos a una lista y que nos devuelva los titulos de los juegos\n",
    "        top3 = juegos_reviews.loc[top3, \"title\"].tolist()\n",
    "        #Asignamos los 3 juegos a las variables\n",
    "        primer_juego = top3[0]\n",
    "        segundo_juego = top3[1]\n",
    "        tercer_juego = top3[2]\n",
    "        return [{\"Puesto 1\" : primer_juego}, {\"Puesto 2\" : segundo_juego},{\"Puesto 3\" : tercer_juego}]\n",
    "    else:\n",
    "        return \"Selecciona un año ente 2010 y 2015\""
   ]
  },
  {
   "cell_type": "code",
   "execution_count": 16,
   "metadata": {},
   "outputs": [
    {
     "name": "stderr",
     "output_type": "stream",
     "text": [
      "C:\\Users\\Lucas\\AppData\\Local\\Temp\\ipykernel_12884\\2508965236.py:9: SettingWithCopyWarning: \n",
      "A value is trying to be set on a copy of a slice from a DataFrame.\n",
      "Try using .loc[row_indexer,col_indexer] = value instead\n",
      "\n",
      "See the caveats in the documentation: https://pandas.pydata.org/pandas-docs/stable/user_guide/indexing.html#returning-a-view-versus-a-copy\n",
      "  filtro[\"valoracion\"] = (filtro[\"sentiment_analysis\"].isin([1, 2])).astype(int) + (filtro[\"recommend\"])\n"
     ]
    },
    {
     "data": {
      "text/plain": [
       "[{'Puesto 1': 'Team Fortress 2'},\n",
       " {'Puesto 2': \"Garry's Mod\"},\n",
       " {'Puesto 3': 'Counter-Strike: Global Offensive'}]"
      ]
     },
     "execution_count": 16,
     "metadata": {},
     "output_type": "execute_result"
    }
   ],
   "source": [
    "UsersRecommend(2013)"
   ]
  }
 ],
 "metadata": {
  "kernelspec": {
   "display_name": "Python 3",
   "language": "python",
   "name": "python3"
  },
  "language_info": {
   "codemirror_mode": {
    "name": "ipython",
    "version": 3
   },
   "file_extension": ".py",
   "mimetype": "text/x-python",
   "name": "python",
   "nbconvert_exporter": "python",
   "pygments_lexer": "ipython3",
   "version": "3.11.4"
  }
 },
 "nbformat": 4,
 "nbformat_minor": 2
}
