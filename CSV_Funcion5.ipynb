{
 "cells": [
  {
   "cell_type": "code",
   "execution_count": 9,
   "metadata": {},
   "outputs": [],
   "source": [
    "#Importamos las librerias\n",
    "import pandas as pd\n",
    "import numpy as np"
   ]
  },
  {
   "cell_type": "code",
   "execution_count": 10,
   "metadata": {},
   "outputs": [],
   "source": [
    "#Cargamos los archivos que tenemos que usar\n",
    "games = pd.read_csv(\"Csv_limpios/steam_games_limpio.csv\")\n",
    "items = pd.read_csv(\"Csv_limpios/steam_items_limpio.csv\")\n",
    "reviews = pd.read_csv(\"Csv_limpios/steam_reviews_limpio.csv\")"
   ]
  },
  {
   "cell_type": "code",
   "execution_count": 11,
   "metadata": {},
   "outputs": [],
   "source": [
    "#Renombramos la columna id por item_id para poder usar el merge\n",
    "games.rename(columns={\"id\" : \"item_id\"}, inplace=True)"
   ]
  },
  {
   "cell_type": "code",
   "execution_count": 12,
   "metadata": {},
   "outputs": [
    {
     "data": {
      "text/html": [
       "<div>\n",
       "<style scoped>\n",
       "    .dataframe tbody tr th:only-of-type {\n",
       "        vertical-align: middle;\n",
       "    }\n",
       "\n",
       "    .dataframe tbody tr th {\n",
       "        vertical-align: top;\n",
       "    }\n",
       "\n",
       "    .dataframe thead th {\n",
       "        text-align: right;\n",
       "    }\n",
       "</style>\n",
       "<table border=\"1\" class=\"dataframe\">\n",
       "  <thead>\n",
       "    <tr style=\"text-align: right;\">\n",
       "      <th></th>\n",
       "      <th>year</th>\n",
       "      <th>Negativo</th>\n",
       "      <th>Neutral</th>\n",
       "      <th>Positivo</th>\n",
       "    </tr>\n",
       "  </thead>\n",
       "  <tbody>\n",
       "    <tr>\n",
       "      <th>0</th>\n",
       "      <td>2010.0</td>\n",
       "      <td>14</td>\n",
       "      <td>9</td>\n",
       "      <td>59</td>\n",
       "    </tr>\n",
       "    <tr>\n",
       "      <th>1</th>\n",
       "      <td>2011.0</td>\n",
       "      <td>70</td>\n",
       "      <td>79</td>\n",
       "      <td>400</td>\n",
       "    </tr>\n",
       "    <tr>\n",
       "      <th>2</th>\n",
       "      <td>2012.0</td>\n",
       "      <td>172</td>\n",
       "      <td>249</td>\n",
       "      <td>847</td>\n",
       "    </tr>\n",
       "    <tr>\n",
       "      <th>3</th>\n",
       "      <td>2013.0</td>\n",
       "      <td>910</td>\n",
       "      <td>1354</td>\n",
       "      <td>4591</td>\n",
       "    </tr>\n",
       "    <tr>\n",
       "      <th>4</th>\n",
       "      <td>2014.0</td>\n",
       "      <td>3492</td>\n",
       "      <td>4395</td>\n",
       "      <td>14040</td>\n",
       "    </tr>\n",
       "    <tr>\n",
       "      <th>5</th>\n",
       "      <td>2015.0</td>\n",
       "      <td>3726</td>\n",
       "      <td>3853</td>\n",
       "      <td>11643</td>\n",
       "    </tr>\n",
       "  </tbody>\n",
       "</table>\n",
       "</div>"
      ],
      "text/plain": [
       "     year  Negativo  Neutral  Positivo\n",
       "0  2010.0        14        9        59\n",
       "1  2011.0        70       79       400\n",
       "2  2012.0       172      249       847\n",
       "3  2013.0       910     1354      4591\n",
       "4  2014.0      3492     4395     14040\n",
       "5  2015.0      3726     3853     11643"
      ]
     },
     "execution_count": 12,
     "metadata": {},
     "output_type": "execute_result"
    }
   ],
   "source": [
    "juegos = games[[\"item_id\", \"title\"]]\n",
    "juegos = juegos.drop_duplicates().reset_index(drop=True)\n",
    "juegos_reviews = pd.merge(reviews, juegos, how=\"inner\", on=\"item_id\")\n",
    "juegos_reviews = juegos_reviews[[\"sentiment_analysis\", \"year\"]]\n",
    "juegos_reviews[\"Negativo\"] = juegos_reviews[\"sentiment_analysis\"].apply(lambda x: 1 if x == 0 else 0)\n",
    "juegos_reviews[\"Neutral\"] = juegos_reviews[\"sentiment_analysis\"].apply(lambda x: 1 if x == 1 else 0)\n",
    "juegos_reviews[\"Positivo\"] = juegos_reviews[\"sentiment_analysis\"].apply(lambda x: 1 if x == 2 else 0)\n",
    "juegos_reviews = juegos_reviews.groupby(\"year\")[[\"Negativo\", \"Neutral\", \"Positivo\"]].sum().reset_index()\n",
    "juegos_reviews"
   ]
  },
  {
   "cell_type": "code",
   "execution_count": 13,
   "metadata": {},
   "outputs": [],
   "source": [
    "juegos_reviews[\"year\"].astype(int)\n",
    "juegos_reviews.to_csv(\"Csv_api/funcion5.csv\", index=False)"
   ]
  },
  {
   "cell_type": "code",
   "execution_count": 14,
   "metadata": {},
   "outputs": [],
   "source": [
    "#def sentiment_analysis( año : int ): Según el año de lanzamiento, \n",
    "#se devuelve una lista con la cantidad de registros de reseñas de usuarios que se encuentren \n",
    "#categorizados con un análisis de sentimiento.\n",
    "#Ejemplo de retorno: {Negative = 182, Neutral = 120, Positive = 278}\n",
    "def sentiment_analysis( año : int ):\n",
    "    if año >= 2010 and año <= 2015:\n",
    "        filtro = juegos_reviews[juegos_reviews[\"year\"] == año]\n",
    "        return (\"Negativo: \", filtro['Negativo'].values[0], \"Neutral: \" ,filtro['Neutral'].values[0], \"Positivo: \" ,filtro['Positivo'].values[0])\n",
    "    else:\n",
    "        return \"Pone un año entre 2010 y 2015\""
   ]
  },
  {
   "cell_type": "code",
   "execution_count": 15,
   "metadata": {},
   "outputs": [
    {
     "data": {
      "text/plain": [
       "'Pone un año entre 2010 y 2015'"
      ]
     },
     "execution_count": 15,
     "metadata": {},
     "output_type": "execute_result"
    }
   ],
   "source": [
    "sentiment_analysis(2017)"
   ]
  },
  {
   "cell_type": "code",
   "execution_count": 19,
   "metadata": {},
   "outputs": [
    {
     "data": {
      "text/plain": [
       "year        float64\n",
       "Negativo      int64\n",
       "Neutral       int64\n",
       "Positivo      int64\n",
       "dtype: object"
      ]
     },
     "execution_count": 19,
     "metadata": {},
     "output_type": "execute_result"
    }
   ],
   "source": [
    "juegos_reviews.dtypes"
   ]
  },
  {
   "cell_type": "code",
   "execution_count": 20,
   "metadata": {},
   "outputs": [
    {
     "data": {
      "text/plain": [
       "year        float64\n",
       "Negativo      int64\n",
       "Neutral       int64\n",
       "Positivo      int64\n",
       "dtype: object"
      ]
     },
     "execution_count": 20,
     "metadata": {},
     "output_type": "execute_result"
    }
   ],
   "source": [
    "a = pd.read_csv(\"Csv_api/funcion5.csv\")\n",
    "a.dtypes"
   ]
  }
 ],
 "metadata": {
  "kernelspec": {
   "display_name": "Python 3",
   "language": "python",
   "name": "python3"
  },
  "language_info": {
   "codemirror_mode": {
    "name": "ipython",
    "version": 3
   },
   "file_extension": ".py",
   "mimetype": "text/x-python",
   "name": "python",
   "nbconvert_exporter": "python",
   "pygments_lexer": "ipython3",
   "version": "3.11.4"
  }
 },
 "nbformat": 4,
 "nbformat_minor": 2
}
